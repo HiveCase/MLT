{
  "nbformat": 4,
  "nbformat_minor": 0,
  "metadata": {
    "colab": {
      "provenance": [],
      "include_colab_link": true
    },
    "kernelspec": {
      "name": "python3",
      "display_name": "Python 3"
    },
    "language_info": {
      "name": "python"
    }
  },
  "cells": [
    {
      "cell_type": "markdown",
      "metadata": {
        "id": "view-in-github",
        "colab_type": "text"
      },
      "source": [
        "<a href=\"https://colab.research.google.com/github/HiveCase/MLT/blob/main/Week6_programming_ques.ipynb\" target=\"_parent\"><img src=\"https://colab.research.google.com/assets/colab-badge.svg\" alt=\"Open In Colab\"/></a>"
      ]
    },
    {
      "cell_type": "code",
      "execution_count": 2,
      "metadata": {
        "id": "3TDibK0Yrxm_"
      },
      "outputs": [],
      "source": [
        "import numpy as np\n",
        "import matplotlib.pyplot as plt\n"
      ]
    },
    {
      "cell_type": "markdown",
      "source": [
        "# Week-6\n",
        "\n",
        "**Note:**:\n",
        "\n",
        "- For questions that involve plotting, just enter $0$ as the answer in the portal.\n",
        "\n"
      ],
      "metadata": {
        "id": "1TBHlt7hAdN1"
      }
    },
    {
      "cell_type": "markdown",
      "source": [
        "## Dataset\n",
        "\n",
        "Run the cell given below to generate the data-matrix $X$ and target vector $y$. $X$ is of shape $(n, d)$, where $n$ denotes the number of samples and $d$ denotes the number of features. $y$ is of shape $(n,)$. You will be using this dataset for the rest of the assignment.\n",
        "\n",
        "**Do not edit this cell.**"
      ],
      "metadata": {
        "id": "XJKrscLo9qwH"
      }
    },
    {
      "cell_type": "code",
      "source": [
        "from sklearn.datasets import load_diabetes\n",
        "X, y = load_diabetes(return_X_y = True)\n",
        "\n",
        "# set the random seed value to 0\n",
        "np.random.seed(0)"
      ],
      "metadata": {
        "id": "GIygEzr49Xvf"
      },
      "execution_count": 3,
      "outputs": []
    },
    {
      "cell_type": "markdown",
      "source": [
        "## Problem 1\n",
        "How many samples are there in the dataset?\n",
        "\n"
      ],
      "metadata": {
        "id": "VAONMkaU91v7"
      }
    },
    {
      "cell_type": "markdown",
      "source": [
        "## Solution"
      ],
      "metadata": {
        "id": "LnXmn5t-V8Us"
      }
    },
    {
      "cell_type": "code",
      "source": [
        "# Write your solution code here\n",
        "n_samples = X.shape[0]\n",
        "print(f\"Number of samples: {n_samples}\")"
      ],
      "metadata": {
        "id": "U_WEAtwXDqVF",
        "colab": {
          "base_uri": "https://localhost:8080/"
        },
        "outputId": "dbc27937-4bfe-43d0-b73e-eb2a17a961e0"
      },
      "execution_count": 4,
      "outputs": [
        {
          "output_type": "stream",
          "name": "stdout",
          "text": [
            "Number of samples: 442\n"
          ]
        }
      ]
    },
    {
      "cell_type": "markdown",
      "source": [
        "## Problem 2\n",
        "\n",
        "How many features are there in the dataset?\n",
        "\n"
      ],
      "metadata": {
        "id": "ozjMS6e_91y3"
      }
    },
    {
      "cell_type": "markdown",
      "source": [
        "## Solution"
      ],
      "metadata": {
        "id": "xvFvIHN9V_s7"
      }
    },
    {
      "cell_type": "code",
      "source": [
        "# Write your solution code here\n",
        "n_features = X.shape[1]\n",
        "print(f\"Number of features: {n_features}\")"
      ],
      "metadata": {
        "id": "ii_yZn4N-Di8",
        "colab": {
          "base_uri": "https://localhost:8080/"
        },
        "outputId": "39ad1124-3343-4f2a-ae8e-3aa2ce6accb2"
      },
      "execution_count": 15,
      "outputs": [
        {
          "output_type": "stream",
          "name": "stdout",
          "text": [
            "Number of features: 10\n"
          ]
        }
      ]
    },
    {
      "cell_type": "markdown",
      "source": [
        "## Problem 3\n",
        "Write a function `shuffle_data(X, y)` that returns the shuffled $X$ and $y$.\n",
        "\n",
        "Note that it should shuffle the data pairs $(x_i, y_i)$.\n",
        "\n",
        "What will be the mean of the first 5 values in $y$?\n",
        "\n"
      ],
      "metadata": {
        "id": "HxIZaojUVGIL"
      }
    },
    {
      "cell_type": "code",
      "source": [
        "# Write your solution code here\n",
        "def shuffle_data(X, y):\n",
        "    \"\"\"Shuffles the data (X, y) maintaining the pairing.\"\"\"\n",
        "    permutation = np.random.permutation(X.shape[0])\n",
        "    return X[permutation], y[permutation]\n",
        "\n",
        "X_shuffled, y_shuffled = shuffle_data(X, y)\n",
        "mean_first_5_y = np.mean(y_shuffled[:5])\n",
        "print(f\"Mean of the first 5 values of shuffled y: {mean_first_5_y}\")"
      ],
      "metadata": {
        "id": "uLGsJyGkdgug",
        "colab": {
          "base_uri": "https://localhost:8080/"
        },
        "outputId": "53bbb0d9-0fe1-4fca-d1d2-6d1831421cc2"
      },
      "execution_count": 16,
      "outputs": [
        {
          "output_type": "stream",
          "name": "stdout",
          "text": [
            "Mean of the first 5 values of shuffled y: 180.4\n"
          ]
        }
      ]
    },
    {
      "cell_type": "markdown",
      "source": [
        "## Problem 4\n",
        "\n",
        "Write a function `train_test_split(X, y, test_size)` that divides the data (X, y) into $X_{train}$, $X_{test}$, $y_{train}$, $y_{test}$ respectively as per test_size which should be a value between 0 and 1.\n",
        "\n",
        "That is, if test_size = $t$, then `int(t*n)` data points should go to test and the remaining data points should go to train.\n",
        "\n",
        "$X_{train}$, $X_{test}$, $y_{train}$, $y_{test}$ should be returned by the function.\n",
        "\n",
        "Set the test_size to be 0.25 and output the sum of all y values settling in $y_{test}$.\n",
        "\n",
        "\n",
        "\n",
        "\n",
        "\n",
        "\n"
      ],
      "metadata": {
        "id": "pfsUsn_8WSXZ"
      }
    },
    {
      "cell_type": "code",
      "source": [
        "# Write your solution code here\n",
        "def train_test_split(X, y, test_size=0.25):\n",
        "    \"\"\"Splits the data into training and testing sets.\"\"\"\n",
        "    n = X.shape[0]\n",
        "    test_samples = int(test_size * n)\n",
        "    X_train = X[test_samples:]\n",
        "    X_test = X[:test_samples]\n",
        "    y_train = y[test_samples:]\n",
        "    y_test = y[:test_samples]\n",
        "    return X_train, X_test, y_train, y_test\n",
        "\n",
        "X_train, X_test, y_train, y_test = train_test_split(X, y, test_size=0.25)\n",
        "sum_y_test = np.sum(y_test)\n",
        "print(f\"Sum of all y values in y_test: {sum_y_test}\")"
      ],
      "metadata": {
        "id": "Y5VZVbT8dg2b",
        "colab": {
          "base_uri": "https://localhost:8080/"
        },
        "outputId": "9dd23990-90e6-48c9-a990-487d5550cf2a"
      },
      "execution_count": 18,
      "outputs": [
        {
          "output_type": "stream",
          "name": "stdout",
          "text": [
            "Sum of all y values in y_test: 14825.0\n"
          ]
        }
      ]
    },
    {
      "cell_type": "markdown",
      "source": [
        "## Problem 5\n",
        "\n",
        "What are the shapes of $X_{train}$, $X_{test}$, $y_{train}$, $y_{test}$ respectively?\n",
        "\n"
      ],
      "metadata": {
        "id": "D67g0r9ad8Ea"
      }
    },
    {
      "cell_type": "code",
      "source": [
        "# Write your solution code here\n",
        "print(f\"Shape of X_train: {X_train.shape}\")\n",
        "print(f\"Shape of X_test: {X_test.shape}\")\n",
        "print(f\"Shape of y_train: {y_train.shape}\")\n",
        "print(f\"Shape of y_test: {y_test.shape}\")\n",
        "\n"
      ],
      "metadata": {
        "id": "kTPAakKblF7q",
        "colab": {
          "base_uri": "https://localhost:8080/"
        },
        "outputId": "eb6f6f11-ea9a-42da-a7f2-28cd487cdc96"
      },
      "execution_count": 21,
      "outputs": [
        {
          "output_type": "stream",
          "name": "stdout",
          "text": [
            "Shape of X_train: (11, 332)\n",
            "Shape of X_test: (11, 110)\n",
            "Shape of y_train: (332,)\n",
            "Shape of y_test: (110,)\n"
          ]
        }
      ]
    },
    {
      "cell_type": "markdown",
      "source": [
        "## Problem 6\n",
        "Add a dummy feature, i.e., a column containing all 1's (as the first column) in $X_{train}$ and $X_{test}$.\n",
        "\n",
        "Take the transpose of both $X_{train}$ and $X_{test}$.\n",
        "\n",
        "What are the shapes of $X_{train}$ and $X_{test}$?\n",
        "\n"
      ],
      "metadata": {
        "id": "nYgSo6DLe0n-"
      }
    },
    {
      "cell_type": "code",
      "source": [
        "## Problem 6: Add Dummy Feature and Transpose\n",
        "X_train = np.insert(X_train, 0, 1, axis=1)\n",
        "X_test = np.insert(X_test, 0, 1, axis=1)\n",
        "\n",
        "X_train = X_train.T\n",
        "X_test = X_test.T\n",
        "print(f\"Shape of X_train (after adding dummy feature and transpose): {X_train.shape}\")\n",
        "print(f\"Shape of X_test (after adding dummy feature and transpose): {X_test.shape}\")"
      ],
      "metadata": {
        "id": "Lgv2V9qnnNv3",
        "colab": {
          "base_uri": "https://localhost:8080/"
        },
        "outputId": "8812abe7-bf72-45d2-cb51-3e803b21e548"
      },
      "execution_count": 22,
      "outputs": [
        {
          "output_type": "stream",
          "name": "stdout",
          "text": [
            "Shape of X_train (after adding dummy feature and transpose): (333, 11)\n",
            "Shape of X_test (after adding dummy feature and transpose): (111, 11)\n"
          ]
        }
      ]
    },
    {
      "cell_type": "markdown",
      "source": [
        "## Problem 7\n",
        "\n",
        "Write a function `compute_weights(X, y)` that uses the closed form formula of linear regression and returns a weight vector.\n",
        "\n",
        "Call this function by passing $X_{train}$ and $y_{train}$. As the dummy feature was added as the first column, the first value in the weight vector will be the intercept. What is its value (rounded to one decimal place)?\n",
        "\n"
      ],
      "metadata": {
        "id": "mYY6hNkYf7gr"
      }
    },
    {
      "cell_type": "code",
      "source": [
        "# Write your solution code here\n",
        "def compute_weights(X, y):\n",
        "    \"\"\"Computes the weights using the closed-form solution for linear regression.\"\"\"\n",
        "    w = np.linalg.inv(X @ X.T) @ X @ y\n",
        "    return w\n",
        "\n",
        "w = compute_weights(X_train, y_train)\n",
        "intercept = w[0]\n",
        "print(f\"Intercept (rounded to one decimal place): {np.round(intercept, 1)}\")"
      ],
      "metadata": {
        "id": "XWxPR8N5nc17"
      },
      "execution_count": 10,
      "outputs": []
    },
    {
      "cell_type": "markdown",
      "source": [
        "## Problem 8\n",
        "\n",
        "Write a function `MSE(X, y, w)` that returns the mean squared error for the given `X`, `y` as per `w` values.\n",
        "\n",
        "Using this function, compute the train error and test error.\n",
        "\n",
        "Note: Here `y` is the true `y` for `X`.\n",
        "\n",
        "Compute both train and test error.\n",
        "\n",
        "What is the value of test error?\n"
      ],
      "metadata": {
        "id": "XUKviVRZoh2j"
      }
    },
    {
      "cell_type": "code",
      "source": [
        "# Write your solution code here\n",
        "def MSE(X, y, w):\n",
        "    \"\"\"Computes the Mean Squared Error.\"\"\"\n",
        "    y_pred = w @ X\n",
        "    mse = np.mean((y - y_pred)**2)\n",
        "    return mse\n",
        "\n",
        "train_error = MSE(X_train, y_train, w)\n",
        "test_error = MSE(X_test, y_test, w)\n",
        "\n",
        "print(f\"Train Error: {train_error}\")\n",
        "print(f\"Test Error: {test_error}\")"
      ],
      "metadata": {
        "id": "PkAULslJD48q",
        "colab": {
          "base_uri": "https://localhost:8080/",
          "height": 332
        },
        "outputId": "ce72fe25-abd1-4518-a1cf-113852a37f2b"
      },
      "execution_count": 23,
      "outputs": [
        {
          "output_type": "error",
          "ename": "ValueError",
          "evalue": "matmul: Input operand 1 has a mismatch in its core dimension 0, with gufunc signature (n?,k),(k,m?)->(n?,m?) (size 333 is different from 11)",
          "traceback": [
            "\u001b[0;31m---------------------------------------------------------------------------\u001b[0m",
            "\u001b[0;31mValueError\u001b[0m                                Traceback (most recent call last)",
            "\u001b[0;32m<ipython-input-23-6fa47baf5dcb>\u001b[0m in \u001b[0;36m<cell line: 0>\u001b[0;34m()\u001b[0m\n\u001b[1;32m      6\u001b[0m     \u001b[0;32mreturn\u001b[0m \u001b[0mmse\u001b[0m\u001b[0;34m\u001b[0m\u001b[0;34m\u001b[0m\u001b[0m\n\u001b[1;32m      7\u001b[0m \u001b[0;34m\u001b[0m\u001b[0m\n\u001b[0;32m----> 8\u001b[0;31m \u001b[0mtrain_error\u001b[0m \u001b[0;34m=\u001b[0m \u001b[0mMSE\u001b[0m\u001b[0;34m(\u001b[0m\u001b[0mX_train\u001b[0m\u001b[0;34m,\u001b[0m \u001b[0my_train\u001b[0m\u001b[0;34m,\u001b[0m \u001b[0mw\u001b[0m\u001b[0;34m)\u001b[0m\u001b[0;34m\u001b[0m\u001b[0;34m\u001b[0m\u001b[0m\n\u001b[0m\u001b[1;32m      9\u001b[0m \u001b[0mtest_error\u001b[0m \u001b[0;34m=\u001b[0m \u001b[0mMSE\u001b[0m\u001b[0;34m(\u001b[0m\u001b[0mX_test\u001b[0m\u001b[0;34m,\u001b[0m \u001b[0my_test\u001b[0m\u001b[0;34m,\u001b[0m \u001b[0mw\u001b[0m\u001b[0;34m)\u001b[0m\u001b[0;34m\u001b[0m\u001b[0;34m\u001b[0m\u001b[0m\n\u001b[1;32m     10\u001b[0m \u001b[0;34m\u001b[0m\u001b[0m\n",
            "\u001b[0;32m<ipython-input-23-6fa47baf5dcb>\u001b[0m in \u001b[0;36mMSE\u001b[0;34m(X, y, w)\u001b[0m\n\u001b[1;32m      2\u001b[0m \u001b[0;32mdef\u001b[0m \u001b[0mMSE\u001b[0m\u001b[0;34m(\u001b[0m\u001b[0mX\u001b[0m\u001b[0;34m,\u001b[0m \u001b[0my\u001b[0m\u001b[0;34m,\u001b[0m \u001b[0mw\u001b[0m\u001b[0;34m)\u001b[0m\u001b[0;34m:\u001b[0m\u001b[0;34m\u001b[0m\u001b[0;34m\u001b[0m\u001b[0m\n\u001b[1;32m      3\u001b[0m     \u001b[0;34m\"\"\"Computes the Mean Squared Error.\"\"\"\u001b[0m\u001b[0;34m\u001b[0m\u001b[0;34m\u001b[0m\u001b[0m\n\u001b[0;32m----> 4\u001b[0;31m     \u001b[0my_pred\u001b[0m \u001b[0;34m=\u001b[0m \u001b[0mw\u001b[0m \u001b[0;34m@\u001b[0m \u001b[0mX\u001b[0m\u001b[0;34m\u001b[0m\u001b[0;34m\u001b[0m\u001b[0m\n\u001b[0m\u001b[1;32m      5\u001b[0m     \u001b[0mmse\u001b[0m \u001b[0;34m=\u001b[0m \u001b[0mnp\u001b[0m\u001b[0;34m.\u001b[0m\u001b[0mmean\u001b[0m\u001b[0;34m(\u001b[0m\u001b[0;34m(\u001b[0m\u001b[0my\u001b[0m \u001b[0;34m-\u001b[0m \u001b[0my_pred\u001b[0m\u001b[0;34m)\u001b[0m\u001b[0;34m**\u001b[0m\u001b[0;36m2\u001b[0m\u001b[0;34m)\u001b[0m\u001b[0;34m\u001b[0m\u001b[0;34m\u001b[0m\u001b[0m\n\u001b[1;32m      6\u001b[0m     \u001b[0;32mreturn\u001b[0m \u001b[0mmse\u001b[0m\u001b[0;34m\u001b[0m\u001b[0;34m\u001b[0m\u001b[0m\n",
            "\u001b[0;31mValueError\u001b[0m: matmul: Input operand 1 has a mismatch in its core dimension 0, with gufunc signature (n?,k),(k,m?)->(n?,m?) (size 333 is different from 11)"
          ]
        }
      ]
    },
    {
      "cell_type": "markdown",
      "source": [
        "## Problem 9\n",
        "\n",
        "Write a function `compute_weights_ridge(X, y)` that uses the closed form formula of Ridge regression and returns a weight vector.\n",
        "\n",
        "Call this function by passing  `X_train`, `y_train` and 0.3 as the value of regularization strength.\n",
        "\n",
        "\n",
        "Find the sum of values in the weight vector obtained. How much reduction in total sum of weights is achieved with respect to the the weight vector obtained from 'plain' linear regression (without regularization) computed earlier.\n"
      ],
      "metadata": {
        "id": "mZZVbejulHyv"
      }
    },
    {
      "cell_type": "code",
      "source": [
        "# Write your solution code here"
      ],
      "metadata": {
        "id": "LCyCWK9dqZm1"
      },
      "execution_count": 12,
      "outputs": []
    },
    {
      "cell_type": "markdown",
      "source": [
        "## Problem 10\n",
        "\n",
        "Compute the train error and test error. What is their absolute difference?\n",
        "\n"
      ],
      "metadata": {
        "id": "LC9Au6sPt1oT"
      }
    },
    {
      "cell_type": "code",
      "source": [
        "# Write your solution code here"
      ],
      "metadata": {
        "id": "iOUjJJpZ3BaZ"
      },
      "execution_count": 13,
      "outputs": []
    },
    {
      "cell_type": "markdown",
      "source": [
        "## Problem 11\n",
        "\n",
        "Use 10 different values between 0 and 5 as the regularization strength and keep a record of the weight vectors obtained for each. Further, calculate the sum of weights for each weight vector.\n",
        "\n",
        "Plot these sums of weights (on y-axis) with respect to the regularization strength (on x-axis) and observe the reduction in (sum of) weights.\n",
        "\n"
      ],
      "metadata": {
        "id": "Wn6-FG5puh8O"
      }
    },
    {
      "cell_type": "code",
      "source": [
        "# Write your solution code here"
      ],
      "metadata": {
        "id": "zlzueWYWwtSi"
      },
      "execution_count": 14,
      "outputs": []
    }
  ]
}