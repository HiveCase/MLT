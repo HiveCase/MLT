{
  "nbformat": 4,
  "nbformat_minor": 0,
  "metadata": {
    "colab": {
      "provenance": [],
      "include_colab_link": true
    },
    "kernelspec": {
      "name": "python3",
      "display_name": "Python 3"
    },
    "language_info": {
      "name": "python"
    }
  },
  "cells": [
    {
      "cell_type": "markdown",
      "metadata": {
        "id": "view-in-github",
        "colab_type": "text"
      },
      "source": [
        "<a href=\"https://colab.research.google.com/github/HiveCase/MLT/blob/main/Linear_Regression.ipynb\" target=\"_parent\"><img src=\"https://colab.research.google.com/assets/colab-badge.svg\" alt=\"Open In Colab\"/></a>"
      ]
    },
    {
      "cell_type": "markdown",
      "source": [
        "## Importing the libraries"
      ],
      "metadata": {
        "id": "WT2nf7VJXHsH"
      }
    },
    {
      "cell_type": "code",
      "execution_count": null,
      "metadata": {
        "id": "0kgvCN0n3_1p"
      },
      "outputs": [],
      "source": [
        "import numpy as np\n",
        "import matplotlib.pyplot as plt"
      ]
    },
    {
      "cell_type": "markdown",
      "source": [
        "This assignments has two sections:\n",
        "* Linear Regression\n",
        "* Kernel Regression\n",
        "\n",
        "\n"
      ],
      "metadata": {
        "id": "iBY90BqPXO31"
      }
    },
    {
      "cell_type": "markdown",
      "source": [
        "# Section 1:\n",
        "\n",
        "**Linear Regression**"
      ],
      "metadata": {
        "id": "X1nmn2q15Vzn"
      }
    },
    {
      "cell_type": "markdown",
      "source": [
        "We will use the Boston_housing dataset for the regression problem. Run the below cell to get the following variables:\n",
        "* `Training_data` = Training data matrix of shape $(n, d)$\n",
        "* `labels` = label vector corresponding to the training data\n",
        "* `test_data` = Test data matrix of shape $(n_1, d)$ where $n_1$ is the number of examples in test dataset.\n",
        "* `test_labels` = label vector corresponding to the test data\n",
        "\n",
        "Use this dataset for the regression problem."
      ],
      "metadata": {
        "id": "aComJ_Fd5dnI"
      }
    },
    {
      "cell_type": "code",
      "source": [
        "from keras.datasets import boston_housing\n",
        "Train, test = boston_housing.load_data(seed= 111)\n",
        "Training_data, labels = Train[0], Train[1]\n",
        "Test_data, test_labels = test[0], test[1]"
      ],
      "metadata": {
        "colab": {
          "base_uri": "https://localhost:8080/"
        },
        "id": "53UCtcH64nsC",
        "outputId": "e725ade0-ea68-4ab7-e044-06368bf88b6e"
      },
      "execution_count": null,
      "outputs": [
        {
          "output_type": "stream",
          "name": "stdout",
          "text": [
            "Downloading data from https://storage.googleapis.com/tensorflow/tf-keras-datasets/boston_housing.npz\n",
            "\u001b[1m57026/57026\u001b[0m \u001b[32m━━━━━━━━━━━━━━━━━━━━\u001b[0m\u001b[37m\u001b[0m \u001b[1m0s\u001b[0m 0us/step\n"
          ]
        }
      ]
    },
    {
      "cell_type": "markdown",
      "source": [
        "## Question 1\n",
        "How many examples are there in the training dataset?\n",
        "\n"
      ],
      "metadata": {
        "id": "R0Dnj-Qha47p"
      }
    },
    {
      "cell_type": "code",
      "source": [
        "## Enter your solution here\n",
        "print(Training_data.shape[0])"
      ],
      "metadata": {
        "id": "vpLeerN2mGRi",
        "colab": {
          "base_uri": "https://localhost:8080/"
        },
        "outputId": "a784afec-3c91-4fdb-f2f7-20d6b4256555"
      },
      "execution_count": null,
      "outputs": [
        {
          "output_type": "stream",
          "name": "stdout",
          "text": [
            "404\n"
          ]
        }
      ]
    },
    {
      "cell_type": "markdown",
      "source": [
        "## Question 2\n",
        "How many examples are there in the test dataset?\n",
        "\n"
      ],
      "metadata": {
        "id": "ChYFPOV5b5jZ"
      }
    },
    {
      "cell_type": "code",
      "source": [
        "## Enter your solution here\n",
        "print(Test_data.shape[0])"
      ],
      "metadata": {
        "id": "0XK7s98bb8PY",
        "colab": {
          "base_uri": "https://localhost:8080/"
        },
        "outputId": "2fed2fc0-dfc5-43cf-afe0-add618611061"
      },
      "execution_count": null,
      "outputs": [
        {
          "output_type": "stream",
          "name": "stdout",
          "text": [
            "102\n"
          ]
        }
      ]
    },
    {
      "cell_type": "markdown",
      "source": [
        "## Question 3\n",
        "\n",
        "How many features are there in the dataset?\n",
        "\n"
      ],
      "metadata": {
        "id": "ZYLLXlAacL5c"
      }
    },
    {
      "cell_type": "code",
      "source": [
        "## Enter your solution here\n",
        "print(Training_data.shape[1])"
      ],
      "metadata": {
        "id": "rGvr9_jkO7NA",
        "colab": {
          "base_uri": "https://localhost:8080/"
        },
        "outputId": "39b9d5e2-95ee-4af5-84e7-dc2f36c02a64"
      },
      "execution_count": null,
      "outputs": [
        {
          "output_type": "stream",
          "name": "stdout",
          "text": [
            "13\n"
          ]
        }
      ]
    },
    {
      "cell_type": "markdown",
      "source": [
        "Linear regression model for the dataset ${\\mathbb{x}, y}$ is given as\n",
        "$$h_w(\\mathbb{x}) = w_1x^{1}+w_2x^{2}+...+w_dx^{d} =  \\mathbb{x}^Tw\n",
        "$$\n",
        "\n",
        "where $x^{i}$ is the $i^{th}$ feature, $\\mathbb{x}$ is the feature matrix of shape $(d, n)$ and $w = [w_1, w_2, ...w_d]^T$ is the weight vector.\n",
        "\n",
        "\n",
        "Notice that above model always pass through the origin but for a given dataset, best fit model need not pass through the origin. To tackle this issue, we add an intercept $w_0$ in the model and set the corresponding featrue $x^{0}$ to $1$. That is\n",
        "\n",
        "$$h_w(\\mathbb{x}) =w_0x^{0}+ w_1x^{1}+w_2x^{2}+...+w_dx^{n} =  \\mathbb{x}^Tw\n",
        "$$\n",
        "\n",
        "We call $x^{0}$ the dummy feature and set its value to 1 for each examples. Now $w$ is of shape $(d+1, 1)$ and $\\mathbb{x}$ is of shape $(d+1, n)$ where the first row of $\\mathbb{x}$ has entries as 1.\n"
      ],
      "metadata": {
        "id": "KmF4HhMmhx9R"
      }
    },
    {
      "cell_type": "markdown",
      "source": [
        "## Task\n",
        "\n",
        "Add the dummy feature in the feature matrix `Training_data` and test data matrix `test_data`. We will be using this new feature matrices (after adding te dummy feature) for learning the model.\n",
        "\n",
        "Note: As per your convenience, you can convert the shape of the training dataset to $(d, n)$."
      ],
      "metadata": {
        "id": "kN5fsfqfmX_w"
      }
    },
    {
      "cell_type": "code",
      "source": [
        "## Enter your solution here\n",
        "# Add dummy feature (column of ones) to training data\n",
        "Training_data = np.concatenate((np.ones((Training_data.shape[0], 1)), Training_data), axis=1)\n",
        "\n",
        "# Add dummy feature to test data\n",
        "Test_data = np.concatenate((np.ones((Test_data.shape[0], 1)), Test_data), axis=1)\n",
        "\n",
        "# Convert the shape of the training dataset to (d, n)\n",
        "Training_data = Training_data.T\n",
        "Test_data = Test_data.T\n",
        "labels = labels.reshape(1, -1)\n",
        "test_labels = test_labels.reshape(1, -1)"
      ],
      "metadata": {
        "id": "wic4nhW47fOv"
      },
      "execution_count": null,
      "outputs": []
    },
    {
      "cell_type": "markdown",
      "source": [
        "## Question 4\n",
        "If the solution of optimization problem is obtained by setting the first derivative of loss function (squared loss) to zero, find the value of $w_0+w_1+...w_d$.\n",
        "\n",
        "\n"
      ],
      "metadata": {
        "id": "sK4oWgqCnzgc"
      }
    },
    {
      "cell_type": "code",
      "source": [
        "## Enter your solution here\n",
        "weights = np.linalg.inv(Training_data @ Training_data.T) @ Training_data @ labels.T\n",
        "print(np.sum(weights))"
      ],
      "metadata": {
        "id": "JORYNRkdOo55",
        "colab": {
          "base_uri": "https://localhost:8080/"
        },
        "outputId": "6c50bd92-d715-4b23-9ade-eb3a4ad86007"
      },
      "execution_count": null,
      "outputs": [
        {
          "output_type": "stream",
          "name": "stdout",
          "text": [
            "20.524582464658266\n"
          ]
        }
      ]
    },
    {
      "cell_type": "markdown",
      "source": [
        "## Question 5\n",
        "Find the average of the predictions made by the above model.\n",
        "\n"
      ],
      "metadata": {
        "id": "uBUor5KWp3_Q"
      }
    },
    {
      "cell_type": "code",
      "source": [
        "## Enter your solution here\n",
        "predictions = weights.T @ Training_data\n",
        "print(np.mean(predictions))"
      ],
      "metadata": {
        "id": "O2vF1aE2Rxfs",
        "colab": {
          "base_uri": "https://localhost:8080/"
        },
        "outputId": "5e24405a-ff52-4c21-e233-26f365717f76"
      },
      "execution_count": null,
      "outputs": [
        {
          "output_type": "stream",
          "name": "stdout",
          "text": [
            "22.309158415841498\n"
          ]
        }
      ]
    },
    {
      "cell_type": "markdown",
      "source": [
        "## Question 6\n",
        "\n",
        "Find the loss for the training data points using the above model. Consider the loss to be defined as\n",
        "\n",
        "$$ \\sqrt{\\dfrac{1}{n}\\sum\\limits_{i=1}^{n} (y_i- \\hat{y}_i)^2}\n",
        "$$\n",
        "\n",
        "Where $\\hat{y}_i$ is the prediction for $i^{th}$ data point.\n",
        "\n"
      ],
      "metadata": {
        "id": "FSDbBz7ucm_a"
      }
    },
    {
      "cell_type": "code",
      "source": [
        "## Enter your solution here\n",
        "# Calculate the loss\n",
        "loss = np.sqrt(np.mean((labels - predictions)**2))\n",
        "print(loss)"
      ],
      "metadata": {
        "id": "F4jRui2VSeDt",
        "colab": {
          "base_uri": "https://localhost:8080/"
        },
        "outputId": "31246754-061f-4024-bb01-5ea92788dd62"
      },
      "execution_count": null,
      "outputs": [
        {
          "output_type": "stream",
          "name": "stdout",
          "text": [
            "4.552387969840813\n"
          ]
        }
      ]
    },
    {
      "cell_type": "markdown",
      "source": [
        "## Question 7\n",
        "\n",
        "Find the loss for the test data points using the above model. Consider the loss to be defined as\n",
        "\n",
        "$$ \\sqrt{\\dfrac{1}{n}\\sum\\limits_{i=1}^{n} (y_i- \\hat{y}_i)^2}\n",
        "$$\n",
        "\n",
        "Where $\\hat{y}_i$ is the prediction for $i^{th}$ data point.\n",
        "\n"
      ],
      "metadata": {
        "id": "5eh8cI4PeVEb"
      }
    },
    {
      "cell_type": "code",
      "source": [
        "# Make predictions on the test data\n",
        "test_predictions = weights.T @ Test_data\n",
        "\n",
        "# Calculate the loss for test data\n",
        "test_loss = np.sqrt(np.mean((test_labels - test_predictions)**2))\n",
        "print(test_loss)"
      ],
      "metadata": {
        "id": "vBMCgEIBU6v5",
        "colab": {
          "base_uri": "https://localhost:8080/"
        },
        "outputId": "37996389-a8c3-4740-96a0-b99a975dd202"
      },
      "execution_count": null,
      "outputs": [
        {
          "output_type": "stream",
          "name": "stdout",
          "text": [
            "5.327662216181637\n"
          ]
        }
      ]
    },
    {
      "cell_type": "markdown",
      "source": [
        "## Question 8\n",
        "Find the weights using the gradient descent. Use a constant learning rate of $\\eta = 10^{-10}$. Initialize the weight vector as zero vector and update the weights for 100 iterations. Enter the sum of all the weights.\n",
        "\n"
      ],
      "metadata": {
        "id": "NkeClcplfJLK"
      }
    },
    {
      "cell_type": "code",
      "source": [
        "# Initialize weights and learning rate\n",
        "eta = 1e-10\n",
        "w = np.zeros((Training_data.shape[0], 1))\n",
        "iterations = 100\n",
        "\n",
        "# Gradient descent\n",
        "for _ in range(iterations):\n",
        "    gradient = -2 * Training_data @ (labels.T - Training_data.T @ w)\n",
        "    w = w - eta * gradient\n",
        "\n",
        "print(np.sum(w))"
      ],
      "metadata": {
        "id": "QbpyGnfgWEqj",
        "colab": {
          "base_uri": "https://localhost:8080/"
        },
        "outputId": "34ed9d11-c50e-4668-e304-9184a2ba255d"
      },
      "execution_count": null,
      "outputs": [
        {
          "output_type": "stream",
          "name": "stdout",
          "text": [
            "0.0589590611959026\n"
          ]
        }
      ]
    },
    {
      "cell_type": "markdown",
      "source": [
        "## Question 9\n",
        "\n",
        "Find the loss for the training data points if the model is learnt using the gradient descent as in question 8. Consider the loss to be defined as\n",
        "\n",
        "$$ \\sqrt{\\dfrac{1}{n}\\sum\\limits_{i=1}^{n} (y_i- \\hat{y}_i)^2}\n",
        "$$\n",
        "\n",
        "Where $\\hat{y}_i$ is the prediction for $i^{th}$ data point.\n",
        "\n"
      ],
      "metadata": {
        "id": "78ApH0oAg96X"
      }
    },
    {
      "cell_type": "code",
      "source": [
        "# Make predictions on the training data using gradient descent weights\n",
        "predictions_gd = w.T @ Training_data\n",
        "\n",
        "# Calculate the loss for training data\n",
        "loss_gd = np.sqrt(np.mean((labels - predictions_gd)**2))\n",
        "print(loss_gd)"
      ],
      "metadata": {
        "id": "oI1yIf9N8la7",
        "colab": {
          "base_uri": "https://localhost:8080/"
        },
        "outputId": "dcb66cfa-8d6e-48d0-8bd8-51f514087655"
      },
      "execution_count": null,
      "outputs": [
        {
          "output_type": "stream",
          "name": "stdout",
          "text": [
            "11.137273237021958\n"
          ]
        }
      ]
    },
    {
      "cell_type": "markdown",
      "source": [
        "## Question 10\n",
        "\n",
        "Find the loss for the test data points if the model is learnt using the gradient descent as in question 8. Consider the loss to be defined as\n",
        "\n",
        "$$ \\sqrt{\\dfrac{1}{n}\\sum\\limits_{i=1}^{n} (y_i- \\hat{y}_i)^2}\n",
        "$$\n",
        "\n",
        "Where $\\hat{y}_i$ is the prediction for $i^{th}$ data point.\n",
        "\n"
      ],
      "metadata": {
        "id": "FA7UKT1Y3PXa"
      }
    },
    {
      "cell_type": "code",
      "source": [
        "# Make predictions on the test data using gradient descent weights\n",
        "test_predictions_gd = w.T @ Test_data\n",
        "\n",
        "# Calculate the loss for test data\n",
        "test_loss_gd = np.sqrt(np.mean((test_labels - test_predictions_gd)**2))\n",
        "print(test_loss_gd)"
      ],
      "metadata": {
        "id": "tevVzIIj3SZj",
        "colab": {
          "base_uri": "https://localhost:8080/"
        },
        "outputId": "051f9b38-00fa-4be2-868f-14ef562719e2"
      },
      "execution_count": null,
      "outputs": [
        {
          "output_type": "stream",
          "name": "stdout",
          "text": [
            "10.964491250062146\n"
          ]
        }
      ]
    },
    {
      "cell_type": "markdown",
      "source": [
        "## Question 11\n",
        "Find the weights using the stochastic gradient descent. Use a constant learning rate of $\\eta = 10^{-8}$. Initialize the weight vector as zero vector and update the weights for 1000 iterations. . Take the batch size of $⌈\\text{number of samples}/5⌉ $. For sampling the batch examples in $ith$ iteration, set seed at $i$. The final weight is the last updated weight. Do not take the avearge of weights updated in all the iterations. Enter the sum of all the weights.\n",
        "\n",
        "\n"
      ],
      "metadata": {
        "id": "-AoLsBKc31Ul"
      }
    },
    {
      "cell_type": "code",
      "source": [
        "# Initialize weights, learning rate, and batch size\n",
        "eta = 1e-8\n",
        "w = np.zeros((Training_data.shape[0], 1))\n",
        "iterations = 1000\n",
        "batch_size = int(np.ceil(Training_data.shape[1] / 5))\n",
        "\n",
        "# Stochastic gradient descent\n",
        "for i in range(iterations):\n",
        "    np.random.seed(i)\n",
        "    indices = np.random.choice(Training_data.shape[1], batch_size, replace=False)\n",
        "    X_batch = Training_data[:, indices]\n",
        "    y_batch = labels[:, indices]\n",
        "    gradient = -2 * X_batch @ (y_batch.T - X_batch.T @ w)\n",
        "    w = w - eta * gradient\n",
        "\n",
        "print(np.sum(w))"
      ],
      "metadata": {
        "id": "R4odop9yF9VY",
        "colab": {
          "base_uri": "https://localhost:8080/"
        },
        "outputId": "af18a01c-a72c-450a-d4b9-84ecb1a12f7e"
      },
      "execution_count": null,
      "outputs": [
        {
          "output_type": "stream",
          "name": "stdout",
          "text": [
            "0.10333558885089422\n"
          ]
        }
      ]
    },
    {
      "cell_type": "markdown",
      "source": [
        "## Question 12\n",
        "\n",
        "Find the loss for the training data points if the model is learnt using the stochastic gradient descent as in question 11. Consider the loss to be defined as\n",
        "\n",
        "$$ \\sqrt{\\dfrac{1}{n}\\sum\\limits_{i=1}^{n} (y_i- \\hat{y}_i)^2}\n",
        "$$\n",
        "\n",
        "Where $\\hat{y}_i$ is the prediction for $i^{th}$ data point.\n",
        "\n"
      ],
      "metadata": {
        "id": "yPzJLciH4NrV"
      }
    },
    {
      "cell_type": "code",
      "source": [
        "# Make predictions on the training data using SGD weights\n",
        "predictions_sgd = w.T @ Training_data\n",
        "\n",
        "# Calculate the loss for training data\n",
        "loss_sgd = np.sqrt(np.mean((labels - predictions_sgd)**2))\n",
        "print(loss_sgd)"
      ],
      "metadata": {
        "id": "w9usLAPeLNkt",
        "colab": {
          "base_uri": "https://localhost:8080/"
        },
        "outputId": "0f959f6a-a5c2-41d0-f4a1-fe918cf0da58"
      },
      "execution_count": null,
      "outputs": [
        {
          "output_type": "stream",
          "name": "stdout",
          "text": [
            "8.622983379043724\n"
          ]
        }
      ]
    },
    {
      "cell_type": "markdown",
      "source": [
        "## Question 13\n",
        "\n",
        "Find the loss for the test data points if the model is learnt using the stochastic gradient descent as in question 11. Consider the loss to be defined as\n",
        "\n",
        "$$ \\sqrt{\\dfrac{1}{n}\\sum\\limits_{i=1}^{n} (y_i- \\hat{y}_i)^2}\n",
        "$$\n",
        "\n",
        "Where $\\hat{y}_i$ is the prediction for $i^{th}$ data point.\n"
      ],
      "metadata": {
        "id": "rfeamQM94x_N"
      }
    },
    {
      "cell_type": "code",
      "source": [
        "# Make predictions on the test data using SGD weights\n",
        "test_predictions_sgd = w.T @ Test_data\n",
        "\n",
        "# Calculate the loss for test data\n",
        "test_loss_sgd = np.sqrt(np.mean((test_labels - test_predictions_sgd)**2))\n",
        "print(test_loss_sgd)"
      ],
      "metadata": {
        "id": "oF1xpNH845iH",
        "colab": {
          "base_uri": "https://localhost:8080/"
        },
        "outputId": "4add2cff-9753-4e53-f89a-ee9d79dff3b7"
      },
      "execution_count": null,
      "outputs": [
        {
          "output_type": "stream",
          "name": "stdout",
          "text": [
            "8.340072147255404\n"
          ]
        }
      ]
    },
    {
      "cell_type": "markdown",
      "source": [
        "# Section 2:\n",
        "\n",
        "**kernel Regression**"
      ],
      "metadata": {
        "id": "muMOKLvY5D9O"
      }
    },
    {
      "cell_type": "markdown",
      "source": [
        "We will generate the synthetic dataset for the kernel regression problem. Run the following cell to get the following variables:\n",
        "\n",
        "`X` = Training data matrix of shape $(n, d)$. In the given dataset $d = 1$.\n",
        "\n",
        "`y` = label vector corresponding to the training dataset"
      ],
      "metadata": {
        "id": "pDAKRJua6rCU"
      }
    },
    {
      "cell_type": "code",
      "source": [
        "rng = np.random.default_rng(seed = 101)\n",
        "X = np.arange(-2, 2, 0.01).reshape(-1, 1)\n",
        "y = X**3 + rng.normal(0, 1, X.shape[0]).reshape(-1, 1)\n"
      ],
      "metadata": {
        "id": "_WgICXZSnra0"
      },
      "execution_count": null,
      "outputs": []
    },
    {
      "cell_type": "markdown",
      "source": [
        "## Question 14\n",
        "\n",
        "Plot the scatter plot between feature and the labels. Enter your answer as 0.\n",
        "\n"
      ],
      "metadata": {
        "id": "y_-9lyPm8aaj"
      }
    },
    {
      "cell_type": "code",
      "source": [
        "## Enter your solution here"
      ],
      "metadata": {
        "id": "B12Nc2Sv80_s"
      },
      "execution_count": null,
      "outputs": []
    },
    {
      "cell_type": "markdown",
      "source": [
        "## Question 15\n",
        "How many examples are there in the training dataset?\n",
        "\n"
      ],
      "metadata": {
        "id": "E3e-gQHg8z8x"
      }
    },
    {
      "cell_type": "code",
      "source": [
        "print(X.shape[0])"
      ],
      "metadata": {
        "id": "xGeqMCV57ZJB",
        "colab": {
          "base_uri": "https://localhost:8080/"
        },
        "outputId": "7670b185-aecc-49aa-9231-c36ca6165b60"
      },
      "execution_count": null,
      "outputs": [
        {
          "output_type": "stream",
          "name": "stdout",
          "text": [
            "400\n"
          ]
        }
      ]
    },
    {
      "cell_type": "markdown",
      "source": [
        "## Task:\n",
        "\n",
        "Add the dummy feature in the feature matrix `X`and reshape it to the shape $(d, n)$."
      ],
      "metadata": {
        "id": "uPifeX-K9zuU"
      }
    },
    {
      "cell_type": "code",
      "source": [
        "X = np.concatenate((np.ones((X.shape[0], 1)), X), axis=1)\n",
        "\n",
        "# Reshape X to (d, n)\n",
        "X = X.T"
      ],
      "metadata": {
        "id": "yduBBJQgujfE"
      },
      "execution_count": null,
      "outputs": []
    },
    {
      "cell_type": "markdown",
      "source": [
        "## Question 16\n",
        "\n",
        "Our task is to apply the kernel regression with polynomial kernel of degree 3. We know that weight vector can be written as\n",
        "\n",
        "$$w = \\phi(\\mathbb{x})\\alpha$$\n",
        "\n",
        "let us call the vector $\\alpha$ as coefficient vector. Find the sum of elements in the coefficient vector.\n",
        "\n"
      ],
      "metadata": {
        "id": "HQtBOQua_HQB"
      }
    },
    {
      "cell_type": "code",
      "source": [
        "def polynomial_kernel(x1, x2, degree=3):\n",
        "    return (1 + np.dot(x1.T, x2)) ** degree\n",
        "\n",
        "# Construct the kernel matrix\n",
        "K = np.zeros((X.shape[1], X.shape[1]))\n",
        "for i in range(X.shape[1]):\n",
        "    for j in range(X.shape[1]):\n",
        "        K[i, j] = polynomial_kernel(X[:, i].reshape(-1, 1), X[:, j].reshape(-1, 1))\n",
        "\n",
        "# Calculate alpha\n",
        "alpha = np.linalg.inv(K) @ y\n",
        "print(np.sum(alpha))\n"
      ],
      "metadata": {
        "id": "CVMDkgkNqCBG",
        "colab": {
          "base_uri": "https://localhost:8080/"
        },
        "outputId": "b0f7d84c-8176-41f5-f7b0-cc54b1681d08"
      },
      "execution_count": null,
      "outputs": [
        {
          "output_type": "stream",
          "name": "stderr",
          "text": [
            "<ipython-input-23-7ae01be25c66>:8: DeprecationWarning: Conversion of an array with ndim > 0 to a scalar is deprecated, and will error in future. Ensure you extract a single element from your array before performing this operation. (Deprecated NumPy 1.25.)\n",
            "  K[i, j] = polynomial_kernel(X[:, i].reshape(-1, 1), X[:, j].reshape(-1, 1))\n"
          ]
        },
        {
          "output_type": "stream",
          "name": "stdout",
          "text": [
            "-28.0\n"
          ]
        }
      ]
    },
    {
      "cell_type": "markdown",
      "source": [
        "## Question 17\n",
        "\n",
        "Find the sum of the predictions made by the kernel regression model of degree 3.\n",
        "\n"
      ],
      "metadata": {
        "id": "Xq0YtsGjA7IK"
      }
    },
    {
      "cell_type": "code",
      "source": [
        "predictions_kernel = K @ alpha\n",
        "print(np.sum(predictions_kernel))"
      ],
      "metadata": {
        "id": "YAqln4GZ05dg",
        "colab": {
          "base_uri": "https://localhost:8080/"
        },
        "outputId": "b3d71284-e9a7-4e45-d549-dd139396d68e"
      },
      "execution_count": null,
      "outputs": [
        {
          "output_type": "stream",
          "name": "stdout",
          "text": [
            "35328.0\n"
          ]
        }
      ]
    },
    {
      "cell_type": "markdown",
      "source": [
        "## Question 18\n",
        "\n",
        "Find the loss for the training data points. Consider the loss to be defined as\n",
        "\n",
        "$$ \\sqrt{\\dfrac{1}{n}\\sum\\limits_{i=1}^{n} (y_i- \\hat{y}_i)^2}\n",
        "$$\n",
        "\n",
        "Where $\\hat{y}_i$ is the prediction for $i^{th}$ data point.\n",
        "\n"
      ],
      "metadata": {
        "id": "pXRpijIeCcSr"
      }
    },
    {
      "cell_type": "code",
      "source": [
        "loss_kernel = np.sqrt(np.mean((y - predictions_kernel)**2))\n",
        "print(loss_kernel)"
      ],
      "metadata": {
        "id": "8_i2Th-g1ToW",
        "colab": {
          "base_uri": "https://localhost:8080/"
        },
        "outputId": "496a039d-b849-4503-c593-710100779ccc"
      },
      "execution_count": null,
      "outputs": [
        {
          "output_type": "stream",
          "name": "stdout",
          "text": [
            "750.9331570794703\n"
          ]
        }
      ]
    },
    {
      "cell_type": "markdown",
      "source": [
        "### Test dataset\n",
        "\n",
        "run the following cell to get the test data matrix `X_test` and corresponding label vector `y_test`."
      ],
      "metadata": {
        "id": "nGpw3zpI65rm"
      }
    },
    {
      "cell_type": "code",
      "source": [
        "rng = np.random.default_rng(seed = 102)\n",
        "Xnew = np.arange(-2, 2, 0.03)\n",
        "ynew = Xnew**3 + rng.normal(0, 1.5, Xnew.shape[0])\n",
        "X_test = np.column_stack((np.ones(Xnew.shape[0]), Xnew.reshape(-1, 1))).T\n",
        "y_test = ynew.reshape(-1, 1)\n",
        "plt.scatter(Xnew,ynew)"
      ],
      "metadata": {
        "colab": {
          "base_uri": "https://localhost:8080/",
          "height": 447
        },
        "id": "fLNDYH_B67kN",
        "outputId": "474421bb-9672-4673-a9ef-22cf454cf759"
      },
      "execution_count": null,
      "outputs": [
        {
          "output_type": "execute_result",
          "data": {
            "text/plain": [
              "<matplotlib.collections.PathCollection at 0x79a993c5ded0>"
            ]
          },
          "metadata": {},
          "execution_count": 26
        },
        {
          "output_type": "display_data",
          "data": {
            "text/plain": [
              "<Figure size 640x480 with 1 Axes>"
            ],
            "image/png": "[encoded data removed]"
          },
          "metadata": {}
        }
      ]
    },
    {
      "cell_type": "markdown",
      "source": [
        "## Question 19\n",
        "\n",
        "Find the loss for the test data points. Consider the loss to be defined as\n",
        "\n",
        "$$ \\sqrt{\\dfrac{1}{n}\\sum\\limits_{i=1}^{n} (y_i- \\hat{y}_i)^2}\n",
        "$$\n",
        "\n",
        "Where $\\hat{y}_i$ is the prediction for $i^{th}$ data point.\n",
        "\n"
      ],
      "metadata": {
        "id": "5vlunIBzDI1_"
      }
    },
    {
      "cell_type": "code",
      "source": [
        "# Construct the test kernel matrix\n",
        "K_test = np.zeros((X_test.shape[1], X.shape[1]))\n",
        "for i in range(X_test.shape[1]):\n",
        "    for j in range(X.shape[1]):\n",
        "        K_test[i, j] = polynomial_kernel(X_test[:, i].reshape(-1, 1), X[:, j].reshape(-1, 1))\n",
        "\n",
        "# Make predictions on the test data\n",
        "predictions_test_kernel = K_test @ alpha\n",
        "\n",
        "# Calculate the loss for test data\n",
        "test_loss_kernel = np.sqrt(np.mean((y_test - predictions_test_kernel)**2))\n",
        "print(test_loss_kernel)"
      ],
      "metadata": {
        "id": "_RxSPslY7joK",
        "colab": {
          "base_uri": "https://localhost:8080/"
        },
        "outputId": "bad81497-49fa-4597-cc4f-e3eb757b64cd"
      },
      "execution_count": null,
      "outputs": [
        {
          "output_type": "stream",
          "name": "stderr",
          "text": [
            "<ipython-input-27-a8fad710f912>:5: DeprecationWarning: Conversion of an array with ndim > 0 to a scalar is deprecated, and will error in future. Ensure you extract a single element from your array before performing this operation. (Deprecated NumPy 1.25.)\n",
            "  K_test[i, j] = polynomial_kernel(X_test[:, i].reshape(-1, 1), X[:, j].reshape(-1, 1))\n"
          ]
        },
        {
          "output_type": "stream",
          "name": "stdout",
          "text": [
            "765.8660210319501\n"
          ]
        }
      ]
    },
    {
      "cell_type": "code",
      "source": [],
      "metadata": {
        "id": "bvxV7FfTuGhP"
      },
      "execution_count": null,
      "outputs": []
    }
  ]
}